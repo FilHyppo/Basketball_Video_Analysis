{
 "cells": [
  {
   "cell_type": "code",
   "execution_count": 1,
   "metadata": {},
   "outputs": [],
   "source": [
    "import os"
   ]
  },
  {
   "cell_type": "code",
   "execution_count": 2,
   "metadata": {},
   "outputs": [
    {
     "name": "stdout",
     "output_type": "stream",
     "text": [
      "Total rim labels: 0\n",
      "Total ball labels: 0\n"
     ]
    }
   ],
   "source": [
    "dir = \"C:\\\\Users\\\\marco\\\\OneDrive\\\\Desktop\\\\my-dataset\"\n",
    "\n",
    "sub_dirs = ['train', 'test', 'valid']\n",
    "\n",
    "tot_rim = 0\n",
    "tot_ball = 0\n",
    "\n",
    "for sub_dir in sub_dirs:\n",
    "    label_dir = os.path.join(dir, sub_dir, 'labels')\n",
    "\n",
    "    for filename in os.listdir(label_dir):\n",
    "        label_path = os.path.join(label_dir, filename)\n",
    "        \n",
    "        with open(label_path, 'r') as f:\n",
    "            lines = f.readlines()\n",
    "            tot_rim += len([line for line in lines if line.startswith('0')])\n",
    "            tot_ball += len([line for line in lines if line.startswith('1')])\n",
    "\n",
    "print(f\"Total rim labels: {tot_rim}\")\n",
    "print(f\"Total ball labels: {tot_ball}\")"
   ]
  },
  {
   "cell_type": "markdown",
   "metadata": {},
   "source": [
    "Visualizza il numero di immagini da etichettare"
   ]
  },
  {
   "cell_type": "code",
   "execution_count": 3,
   "metadata": {},
   "outputs": [
    {
     "data": {
      "text/plain": [
       "('Immagini totali nel dataset', 3252)"
      ]
     },
     "execution_count": 3,
     "metadata": {},
     "output_type": "execute_result"
    }
   ],
   "source": [
    "dir = \"C:\\\\Users\\\\marco\\\\OneDrive\\\\Desktop\\\\my-dataset\"\n",
    "\n",
    "all_images = os.path.join(dir, 'all_images')\n",
    "all_labels = os.path.join(dir, 'all_labels')\n",
    "\n",
    "\"Immagini totali nel dataset\", len(os.listdir(all_images))"
   ]
  },
  {
   "cell_type": "markdown",
   "metadata": {},
   "source": [
    "Immagini senza pall"
   ]
  },
  {
   "cell_type": "code",
   "execution_count": 4,
   "metadata": {},
   "outputs": [
    {
     "data": {
      "text/plain": [
       "1757"
      ]
     },
     "execution_count": 4,
     "metadata": {},
     "output_type": "execute_result"
    }
   ],
   "source": [
    "cnt = 0\n",
    "for image_file_name in os.listdir(all_images):\n",
    "    label_file_name = image_file_name.replace('.jpg', '.txt')\n",
    "    label_file_path = os.path.join(dir, 'all_labels', label_file_name)\n",
    "    if not os.path.exists(label_file_path):\n",
    "        cnt += 1\n",
    "        continue\n",
    "    lines = []\n",
    "    with open(label_file_path, 'r') as f:\n",
    "        lines = f.readlines()\n",
    "        rim = len([line for line in lines if line.startswith('0')])\n",
    "        ball = len([line for line in lines if line.startswith('1')])\n",
    "        if ball == 0:\n",
    "            cnt += 1\n",
    "cnt"
   ]
  },
  {
   "cell_type": "markdown",
   "metadata": {},
   "source": [
    "Numero di palle e canestri trovati"
   ]
  },
  {
   "cell_type": "code",
   "execution_count": 5,
   "metadata": {},
   "outputs": [
    {
     "data": {
      "text/plain": [
       "(2962, 1496)"
      ]
     },
     "execution_count": 5,
     "metadata": {},
     "output_type": "execute_result"
    }
   ],
   "source": [
    "rim = 0\n",
    "ball = 0\n",
    "for image_file_name in os.listdir(all_images):\n",
    "    label_file_name = image_file_name.replace('.jpg', '.txt')\n",
    "    label_file_path = os.path.join(dir, 'all_labels', label_file_name)\n",
    "    if not os.path.exists(label_file_path):\n",
    "        cnt += 1\n",
    "        continue\n",
    "    lines = []\n",
    "    with open(label_file_path, 'r') as f:\n",
    "        lines = f.readlines()\n",
    "        rim += len([line for line in lines if line.startswith('0')])\n",
    "        ball += len([line for line in lines if line.startswith('1')])\n",
    "\n",
    "rim, ball"
   ]
  },
  {
   "cell_type": "markdown",
   "metadata": {},
   "source": [
    "Controllo che ogni immagine abbia almeno un etichetta"
   ]
  },
  {
   "cell_type": "code",
   "execution_count": 7,
   "metadata": {},
   "outputs": [
    {
     "name": "stdout",
     "output_type": "stream",
     "text": [
      "All images have a corresponding label file\n"
     ]
    }
   ],
   "source": [
    "check = True\n",
    "\n",
    "for filename in os.listdir(all_images):\n",
    "    image_path = os.path.join(all_images, filename)\n",
    "    label_path = os.path.join(all_labels, filename.replace('.jpg', '.txt'))\n",
    "    if not os.path.exists(label_path):\n",
    "        check = False\n",
    "        print(f\"Label file not found for image {filename}\")\n",
    "        break\n",
    "if check:\n",
    "    print(\"All images have a corresponding label file\")"
   ]
  },
  {
   "cell_type": "markdown",
   "metadata": {},
   "source": [
    "Controllo che non ci siano file label vaganti"
   ]
  },
  {
   "cell_type": "code",
   "execution_count": 8,
   "metadata": {},
   "outputs": [
    {
     "name": "stdout",
     "output_type": "stream",
     "text": [
      "All labels have a corresponding image file\n"
     ]
    }
   ],
   "source": [
    "check = True\n",
    "\n",
    "for filename in os.listdir(all_labels):\n",
    "    label_path = os.path.join(all_labels, filename)\n",
    "    image_path = os.path.join(all_images, filename.replace('.txt', '.jpg'))\n",
    "    if not os.path.exists(label_path):\n",
    "        check = False\n",
    "        print(f\"Label file not found for label {filename}\")\n",
    "        break\n",
    "if check:\n",
    "    print(\"All labels have a corresponding image file\")"
   ]
  },
  {
   "cell_type": "code",
   "execution_count": 11,
   "metadata": {},
   "outputs": [
    {
     "data": {
      "text/plain": [
       "2444"
      ]
     },
     "execution_count": 11,
     "metadata": {},
     "output_type": "execute_result"
    }
   ],
   "source": [
    "import os\n",
    "\n",
    "images_to_annotate = './images_to_annotate'\n",
    "\n",
    "len(os.listdir(images_to_annotate))"
   ]
  }
 ],
 "metadata": {
  "kernelspec": {
   "display_name": "Python 3",
   "language": "python",
   "name": "python3"
  },
  "language_info": {
   "codemirror_mode": {
    "name": "ipython",
    "version": 3
   },
   "file_extension": ".py",
   "mimetype": "text/x-python",
   "name": "python",
   "nbconvert_exporter": "python",
   "pygments_lexer": "ipython3",
   "version": "3.10.11"
  }
 },
 "nbformat": 4,
 "nbformat_minor": 2
}
