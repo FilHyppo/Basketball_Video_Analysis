{
 "cells": [
  {
   "cell_type": "code",
   "execution_count": 9,
   "metadata": {},
   "outputs": [],
   "source": [
    "import cv2\n",
    "import os\n",
    "import numpy as np\n",
    "import matplotlib.pyplot as plt\n",
    "import supervision as sv"
   ]
  },
  {
   "cell_type": "code",
   "execution_count": 21,
   "metadata": {},
   "outputs": [],
   "source": [
    "def load_yolo_labels(label_path) -> np.array:\n",
    "    labels = []\n",
    "    with open(label_path, 'r') as f:\n",
    "        for line in f.readlines():\n",
    "            parts = line.strip().split()\n",
    "            cls, x_center, y_center, width, height = map(float, parts)\n",
    "            labels.append([cls, x_center, y_center, width, height])\n",
    "    return np.array(labels)\n",
    "\n",
    "def yolo_to_detections(yolo_labels, image_shape):\n",
    "    height, width = image_shape[:2]\n",
    "    \n",
    "    # Converti le coordinate da normalizzate a pixel\n",
    "    boxes = []\n",
    "    classes = []\n",
    "    for label in yolo_labels:\n",
    "        cls, x_center, y_center, w, h = label\n",
    "        x_center *= width\n",
    "        y_center *= height\n",
    "        w *= width\n",
    "        h *= height\n",
    "\n",
    "        # Converti da (x_center, y_center, w, h) a (x_min, y_min, x_max, y_max)\n",
    "        x_min = x_center - w / 2\n",
    "        y_min = y_center - h / 2\n",
    "        x_max = x_center + w / 2\n",
    "        y_max = y_center + h / 2\n",
    "\n",
    "        boxes.append([x_min, y_min, x_max, y_max])\n",
    "        classes.append(int(cls))\n",
    "    \n",
    "    # Converti in array NumPy\n",
    "    boxes = np.array(boxes)\n",
    "    classes = np.array(classes)\n",
    "\n",
    "    return sv.Detections(xyxy=boxes, class_id=classes)\n"
   ]
  },
  {
   "cell_type": "code",
   "execution_count": 11,
   "metadata": {},
   "outputs": [],
   "source": [
    "BASE = \"C:\\\\Users\\\\marco\\\\OneDrive\\\\Desktop\\\\my-dataset\"\n",
    "\n",
    "IMGS = os.path.join(BASE, \"all_images\")\n",
    "LABELS = os.path.join(BASE, \"all_labels\")\n",
    "\n",
    "OUT_DIR = 'C:\\\\Users\\\\marco\\\\OneDrive\\\\Documents\\\\GitHub\\\\Basketball_Video_Analysis\\\\ball-detection\\\\images_annotated'"
   ]
  },
  {
   "cell_type": "code",
   "execution_count": 12,
   "metadata": {},
   "outputs": [],
   "source": [
    "images_files = [os.path.join(IMGS, file) for file in os.listdir(IMGS) if file.endswith(\".jpg\")]\n",
    "labels_files = [os.path.join(LABELS, file) for file in os.listdir(LABELS) if file.endswith(\".txt\")]"
   ]
  },
  {
   "cell_type": "code",
   "execution_count": 13,
   "metadata": {},
   "outputs": [
    {
     "data": {
      "text/plain": [
       "(3168, 3483)"
      ]
     },
     "execution_count": 13,
     "metadata": {},
     "output_type": "execute_result"
    }
   ],
   "source": [
    "len(labels_files), len(images_files)"
   ]
  },
  {
   "cell_type": "code",
   "execution_count": 14,
   "metadata": {},
   "outputs": [],
   "source": [
    "class_names = ['rim', 'ball']"
   ]
  },
  {
   "cell_type": "code",
   "execution_count": 51,
   "metadata": {},
   "outputs": [],
   "source": [
    "def show_detections(class_names=['rim', 'ball'], rows=5, cols=5):\n",
    "    class_ids = [class_names.index(name) for name in class_names]\n",
    "\n",
    "    ball_images = []\n",
    "    titles = []\n",
    "\n",
    "    for image_path, label_path in zip(images_files, labels_files):\n",
    "        img = cv2.imread(image_path)\n",
    "\n",
    "        labels = load_yolo_labels(label_path)\n",
    "        labels = np.array(labels, dtype=np.float32)\n",
    "        mask = np.isin(labels[:, 0], class_ids)\n",
    "        labels = labels[mask]\n",
    "        if labels.size == 0:\n",
    "            continue\n",
    "        a = np.random.randint(4)\n",
    "        if a == 0:\n",
    "            continue\n",
    "        try:\n",
    "            detections = yolo_to_detections(labels, img.shape)\n",
    "        except Exception as e:\n",
    "            print(\"Labels non trovate per\", image_path)\n",
    "        bbox = detections.xyxy[0]\n",
    "        ball = img[int(bbox[1]):int(bbox[3]), int(bbox[0]):int(bbox[2])]\n",
    "        ball_images.append(ball)\n",
    "        titles.append(class_names[int(detections.class_id[0])])\n",
    "        if len(ball_images) == rows * cols:\n",
    "            break\n",
    "\n",
    "    sv.plot_images_grid(ball_images, (rows, cols), titles=titles\n",
    "    , size=(20, 20))\n"
   ]
  },
  {
   "cell_type": "code",
   "execution_count": null,
   "metadata": {},
   "outputs": [],
   "source": [
    "show_detections()"
   ]
  }
 ],
 "metadata": {
  "kernelspec": {
   "display_name": "Python 3",
   "language": "python",
   "name": "python3"
  },
  "language_info": {
   "codemirror_mode": {
    "name": "ipython",
    "version": 3
   },
   "file_extension": ".py",
   "mimetype": "text/x-python",
   "name": "python",
   "nbconvert_exporter": "python",
   "pygments_lexer": "ipython3",
   "version": "3.10.undefined"
  }
 },
 "nbformat": 4,
 "nbformat_minor": 2
}
